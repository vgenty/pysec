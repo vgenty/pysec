{
 "cells": [
  {
   "cell_type": "code",
   "execution_count": null,
   "metadata": {
    "collapsed": false
   },
   "outputs": [],
   "source": [
    "import Queue\n",
    "import threading\n",
    "import pysec.util.edgar_utilies as eu\n",
    "import sym_to_ciks\n",
    "\n",
    "from pysec.util import ftp_utilities\n",
    "\n",
    "\n",
    "#import pysec.util.xbrl as xbrl"
   ]
  },
  {
   "cell_type": "code",
   "execution_count": null,
   "metadata": {
    "collapsed": false
   },
   "outputs": [],
   "source": [
    "TCKR = sym_to_ciks.sym_to_ciks['IBM']"
   ]
  },
  {
   "cell_type": "code",
   "execution_count": null,
   "metadata": {
    "collapsed": false
   },
   "outputs": [],
   "source": [
    "aho = eu.get_acc_table({'cik' : eu.short_to_long_cik(sym_to_ciks.sym_to_ciks['AIG']),\n",
    "                        'qk'  : 'q'})\n",
    "\n",
    "\n",
    "#0001326801\n",
    "#0000051143"
   ]
  },
  {
   "cell_type": "code",
   "execution_count": null,
   "metadata": {
    "collapsed": false
   },
   "outputs": [],
   "source": [
    "pool = ftp_utilities.FTP_Pool(5)\n",
    "q = Queue.Queue()\n",
    "def get_xbrl_file(cik,acc):\n",
    "    q.put({(cik,acc): pool.get(cik,acc)})"
   ]
  },
  {
   "cell_type": "code",
   "execution_count": null,
   "metadata": {
    "collapsed": false
   },
   "outputs": [],
   "source": [
    "th = []\n",
    "for i in aho.Acc.values:\n",
    "    print i\n",
    "    t = threading.Thread(target = get_xbrl_file,\n",
    "                         args=(str(TCKR),i))\n",
    "    t.start()\n",
    "    th.append(t)\n",
    "\n",
    "for i in th: t.join()\n",
    "\n",
    "while not q.empty():\n",
    "    print q.get()"
   ]
  },
  {
   "cell_type": "code",
   "execution_count": null,
   "metadata": {
    "collapsed": false
   },
   "outputs": [],
   "source": [
    "str(TCKR)"
   ]
  },
  {
   "cell_type": "code",
   "execution_count": null,
   "metadata": {
    "collapsed": false,
    "scrolled": true
   },
   "outputs": [],
   "source": []
  },
  {
   "cell_type": "code",
   "execution_count": null,
   "metadata": {
    "collapsed": false
   },
   "outputs": [],
   "source": [
    "bb = lambda x : xbrl.XBRL(x)"
   ]
  },
  {
   "cell_type": "code",
   "execution_count": null,
   "metadata": {
    "collapsed": false
   },
   "outputs": [],
   "source": [
    "aho['xbrl'] = aho.xml.apply(bb)"
   ]
  },
  {
   "cell_type": "code",
   "execution_count": null,
   "metadata": {
    "collapsed": false
   },
   "outputs": [],
   "source": [
    "ftp.get_sec_XRBL(d['short_cik'],d['acc'])"
   ]
  },
  {
   "cell_type": "code",
   "execution_count": null,
   "metadata": {
    "collapsed": false
   },
   "outputs": [],
   "source": [
    "plt.plot_date(aho.time.values,y(aho.xbrl.values)/1000000000.0,'-')\n",
    "plt.xlabel('Time',fontsize=20)\n",
    "plt.ylabel('Cash in B$',fontsize=20)\n",
    "plt.xticks(fontsize=20)\n",
    "plt.yticks(fontsize=20)"
   ]
  },
  {
   "cell_type": "code",
   "execution_count": null,
   "metadata": {
    "collapsed": true
   },
   "outputs": [],
   "source": [
    "y = lambda x : float(x.fields['Cash'])"
   ]
  },
  {
   "cell_type": "code",
   "execution_count": null,
   "metadata": {
    "collapsed": false
   },
   "outputs": [],
   "source": [
    "import numpy\n",
    "import matplotlib.pyplot as plt\n",
    "%matplotlib inline"
   ]
  },
  {
   "cell_type": "code",
   "execution_count": null,
   "metadata": {
    "collapsed": true
   },
   "outputs": [],
   "source": [
    "y = numpy.vectorize(y)"
   ]
  },
  {
   "cell_type": "code",
   "execution_count": null,
   "metadata": {
    "collapsed": false
   },
   "outputs": [],
   "source": [
    "aho"
   ]
  },
  {
   "cell_type": "code",
   "execution_count": null,
   "metadata": {
    "collapsed": true
   },
   "outputs": [],
   "source": [
    "import matplotlib"
   ]
  },
  {
   "cell_type": "code",
   "execution_count": null,
   "metadata": {
    "collapsed": false
   },
   "outputs": [],
   "source": [
    "aho['Filing Date'].values"
   ]
  },
  {
   "cell_type": "code",
   "execution_count": null,
   "metadata": {
    "collapsed": true
   },
   "outputs": [],
   "source": [
    "import datetime"
   ]
  },
  {
   "cell_type": "code",
   "execution_count": null,
   "metadata": {
    "collapsed": false
   },
   "outputs": [],
   "source": [
    "datetime.datetime(aho['Filing Date'].values[0])"
   ]
  },
  {
   "cell_type": "code",
   "execution_count": null,
   "metadata": {
    "collapsed": true
   },
   "outputs": [],
   "source": [
    "import time"
   ]
  },
  {
   "cell_type": "code",
   "execution_count": null,
   "metadata": {
    "collapsed": false
   },
   "outputs": [],
   "source": [
    "w = time.strptime(aho['Filing Date'].values[0],\"%Y-%m-%d\")"
   ]
  },
  {
   "cell_type": "code",
   "execution_count": null,
   "metadata": {
    "collapsed": false
   },
   "outputs": [],
   "source": [
    "dt = datetime.datetime.fromtimestamp(time.mktime(time.strptime(aho['Filing Date'].values,\"%Y-%m-%d\")))"
   ]
  },
  {
   "cell_type": "code",
   "execution_count": null,
   "metadata": {
    "collapsed": false
   },
   "outputs": [],
   "source": [
    "dt"
   ]
  },
  {
   "cell_type": "code",
   "execution_count": null,
   "metadata": {
    "collapsed": false
   },
   "outputs": [],
   "source": [
    "gg = lambda x : datetime.datetime.fromtimestamp(time.mktime(time.strptime(x,\"%Y-%m-%d\")))"
   ]
  },
  {
   "cell_type": "code",
   "execution_count": null,
   "metadata": {
    "collapsed": false
   },
   "outputs": [],
   "source": [
    "aho['time'] = aho['Filing Date'].apply(gg)"
   ]
  },
  {
   "cell_type": "code",
   "execution_count": null,
   "metadata": {
    "collapsed": false
   },
   "outputs": [],
   "source": [
    "aho.xbrl.values[0].fields"
   ]
  },
  {
   "cell_type": "code",
   "execution_count": null,
   "metadata": {
    "collapsed": false
   },
   "outputs": [],
   "source": [
    "aho.to_dict"
   ]
  },
  {
   "cell_type": "code",
   "execution_count": null,
   "metadata": {
    "collapsed": false
   },
   "outputs": [],
   "source": [
    "aho"
   ]
  },
  {
   "cell_type": "code",
   "execution_count": 35,
   "metadata": {
    "collapsed": false
   },
   "outputs": [
    {
     "name": "stdout",
     "output_type": "stream",
     "text": [
      "  Filings                   Acc Filing Date                Fileloc\n",
      "0    10-K  0001122304-15-000038  2015-02-27  /tmp/aet-20141231.xml\n",
      "1    10-K  0001122304-14-000037  2014-02-28  /tmp/aet-20131231.xml\n",
      "2    10-K  0001122304-13-000037  2013-02-19  /tmp/aet-20121231.xml\n",
      "3    10-K  0001122304-12-000045  2012-02-24  /tmp/aet-20111231.xml\n",
      "4    10-K  0001122304-11-000032  2011-02-25  /tmp/aet-20101231.xml\n",
      "5    10-K  0001122304-10-000024  2010-02-26  /tmp/aet-20091231.xml\n"
     ]
    }
   ],
   "source": [
    "import Queue\n",
    "import threading\n",
    "import pysec.util.edgar_utilies as eu\n",
    "import sym_to_ciks\n",
    "\n",
    "from pysec.util import ftp_utilities\n",
    "\n",
    "T = 'AET'\n",
    "\n",
    "TCKR = sym_to_ciks.sym_to_ciks[T]\n",
    "\n",
    "TCKR_df = eu.get_acc_table({'cik' : eu.short_to_long_cik(TCKR),\n",
    "                            'qk'  : 'k'})\n",
    "\n",
    "pool = ftp_utilities.FTP_Pool(4)\n",
    "q    = Queue.Queue() # Return queue\n",
    "\n",
    "def get_xbrl_file(cik,acc,q):\n",
    "    pool.get(cik,acc,q) # Race condition failure\n",
    "\n",
    "th = []\n",
    "for i in TCKR_df.Acc.values:\n",
    "    t = threading.Thread(target = get_xbrl_file,\n",
    "                         args=(str(TCKR),i,q)) # Send queue as parameters to safeguard blocking\n",
    "    t.start()\n",
    "    th.append(t)\n",
    "\n",
    "for t in th:\n",
    "    t.join()\n",
    "\n",
    "# add extra column to dataframe that just has \"fileloc\"\n",
    "TCKR_df['Fileloc'] = ''\n",
    "\n",
    "# Pull out of FIFO, put back into dataframe one by one\n",
    "# will be in Quene in random order (or some function of filesize/avg internet speed)\n",
    "while not q.empty():\n",
    "    ret = q.get()\n",
    "    TCKR_df.loc[TCKR_df['Acc'] == ret[0],'Fileloc'] = ret[1]\n",
    "    \n",
    "\n",
    "print TCKR_df"
   ]
  },
  {
   "cell_type": "code",
   "execution_count": 36,
   "metadata": {
    "collapsed": false
   },
   "outputs": [],
   "source": [
    "import pysec.util.xbrl as xbrl"
   ]
  },
  {
   "cell_type": "code",
   "execution_count": 37,
   "metadata": {
    "collapsed": false
   },
   "outputs": [
    {
     "name": "stdout",
     "output_type": "stream",
     "text": [
      "0: Imputed NoncurrentAssets: 41638100000.0  from Assets(53402100000.0) == CurrentAssets(11764000000.0)+NoncurrentAssets(0)\n",
      "0: Imputed NetIncomeAvailableToCommonStockholdersBasic: 232000000.0  from NetIncomeAttributableToParent(232000000.0) == NetIncomeAvailableToCommonStockholdersBasic(0)+PreferredStockDividendsAndOtherAdjustments(0)Z\n",
      "0: Imputed IncomeFromContinuingOperationsAfterTax: 229800000.0  from NetIncomeLoss(229800000.0) == IncomeFromContinuingOperationsAfterTax(0)+IncomeFromDiscontinuedOperations(0)Z+ExtraordinaryItemsGainLoss(0)Z\n",
      "0: Imputed OtherComprehensiveIncome: 0.0  from ComprehensiveIncome(229800000.0) == OtherComprehensiveIncome(0)+NetIncomeLoss(229800000.0)\n",
      "0: Imputed IncomeFromEquityMethodInvestments: 0.0  from IncomeFromContinuingOperationsBeforeTax(428700000.0) == IncomeBeforeEquityMethodInvestments(428700000.0)+IncomeFromEquityMethodInvestments(0)\n",
      "0: Imputed NonoperatingIncomeLossPlusInterestAndDebtExpense: 428700000.0  from NonoperatingIncomeLossPlusInterestAndDebtExpense(0)+IncomeFromEquityMethodInvestments(0.0) == NonoperatingIncomePlusInterestAndDebtExpensePlusIncomeFromEquityMethodInvestments(428700000.0)\n",
      "0: Imputed NetCashFlowsOperatingContinuing: 3372800000.0  from NetCashFlowsOperating(3372800000.0) == NetCashFlowsOperatingContinuing(0)+NetCashFlowsOperatingDiscontinued(0)Z\n",
      "0: Imputed NetCashFlowsInvestingContinuing: -2129700000.0  from NetCashFlowsInvesting(-2129700000.0) == NetCashFlowsInvestingContinuing(0)+NetCashFlowsInvestingDiscontinued(0)Z\n",
      "0: Imputed NetCashFlowsFinancingContinuing: -1235000000.0  from NetCashFlowsFinancing(-1235000000.0) == NetCashFlowsFinancingContinuing(0)+NetCashFlowsFinancingDiscontinued(0)Z\n",
      "0: Imputed ExchangeGainsLosses: 0.0  from NetCashFlow(8100000.0) == NetCashFlowsOperating(3372800000.0)+NetCashFlowsInvesting(-2129700000.0)+NetCashFlowsFinancing(-1235000000.0)+ExchangeGainsLosses(0)Z\n",
      "1: Imputed PreferredStockDividendsAndOtherAdjustments: 0.0  from NetIncomeAttributableToParent(232000000.0) == NetIncomeAvailableToCommonStockholdersBasic(232000000.0)+PreferredStockDividendsAndOtherAdjustments(0)Z\n",
      "1: Imputed NetCashFlowsOperatingDiscontinued: 0.0  from NetCashFlowsOperating(3372800000.0) == NetCashFlowsOperatingContinuing(3372800000.0)+NetCashFlowsOperatingDiscontinued(0)Z\n",
      "1: Imputed NetCashFlowsInvestingDiscontinued: 0.0  from NetCashFlowsInvesting(-2129700000.0) == NetCashFlowsInvestingContinuing(-2129700000.0)+NetCashFlowsInvestingDiscontinued(0)Z\n",
      "1: Imputed NetCashFlowsFinancingDiscontinued: 0.0  from NetCashFlowsFinancing(-1235000000.0) == NetCashFlowsFinancingContinuing(-1235000000.0)+NetCashFlowsFinancingDiscontinued(0)Z\n",
      "2: Imputed NetCashFlowsDiscontinued: 0.0  from NetCashFlowsDiscontinued(0) == NetCashFlowsOperatingDiscontinued(0.0)+NetCashFlowsInvestingDiscontinued(0.0)+NetCashFlowsFinancingDiscontinued(0.0)\n",
      "IS1: GrossProfit(0) == Revenues(14771200000.0) - CostOfRevenue(0),  -14771200000.0\n",
      "IS2_5: NonoperatingIncomeLossPlusInterestAndDebtExpense(428700000.0) == NonoperatingIncomeLoss(0) + InterestAndDebtExpense(0),  428700000.0\n",
      "IS11: OperatingIncomeLoss(0) == Revenues(14771200000.0) + OtherOperatingIncome(0) - CostsAndExpenses(0),  -14771200000.0\n",
      "3 impute passes\n",
      "0: Imputed NoncurrentAssets: 40152900000.0  from Assets(49871800000.0) == CurrentAssets(9718900000.0)+NoncurrentAssets(0)\n",
      "0: Imputed NetIncomeAvailableToCommonStockholdersBasic: 368900000.0  from NetIncomeAttributableToParent(368900000.0) == NetIncomeAvailableToCommonStockholdersBasic(0)+PreferredStockDividendsAndOtherAdjustments(0)Z\n",
      "0: Imputed IncomeFromContinuingOperationsAfterTax: 368800000.0  from NetIncomeLoss(368800000.0) == IncomeFromContinuingOperationsAfterTax(0)+IncomeFromDiscontinuedOperations(0)Z+ExtraordinaryItemsGainLoss(0)Z\n",
      "0: Imputed OtherComprehensiveIncome: 0.0  from ComprehensiveIncome(368800000.0) == OtherComprehensiveIncome(0)+NetIncomeLoss(368800000.0)\n",
      "0: Imputed IncomeFromEquityMethodInvestments: 0.0  from IncomeFromContinuingOperationsBeforeTax(535400000.0) == IncomeBeforeEquityMethodInvestments(535400000.0)+IncomeFromEquityMethodInvestments(0)\n",
      "0: Imputed NonoperatingIncomeLossPlusInterestAndDebtExpense: 535400000.0  from NonoperatingIncomeLossPlusInterestAndDebtExpense(0)+IncomeFromEquityMethodInvestments(0.0) == NonoperatingIncomePlusInterestAndDebtExpensePlusIncomeFromEquityMethodInvestments(535400000.0)\n",
      "0: Imputed NetCashFlowsOperatingContinuing: 2278700000.0  from NetCashFlowsOperating(2278700000.0) == NetCashFlowsOperatingContinuing(0)+NetCashFlowsOperatingDiscontinued(0)Z\n",
      "0: Imputed NetCashFlowsInvestingContinuing: -1919800000.0  from NetCashFlowsInvesting(-1919800000.0) == NetCashFlowsInvestingContinuing(0)+NetCashFlowsInvestingDiscontinued(0)Z\n",
      "0: Imputed NetCashFlowsFinancingContinuing: -1525800000.0  from NetCashFlowsFinancing(-1525800000.0) == NetCashFlowsFinancingContinuing(0)+NetCashFlowsFinancingDiscontinued(0)Z\n",
      "0: Imputed ExchangeGainsLosses: 0.0  from NetCashFlow(-1166900000.0) == NetCashFlowsOperating(2278700000.0)+NetCashFlowsInvesting(-1919800000.0)+NetCashFlowsFinancing(-1525800000.0)+ExchangeGainsLosses(0)Z\n",
      "1: Imputed PreferredStockDividendsAndOtherAdjustments: 0.0  from NetIncomeAttributableToParent(368900000.0) == NetIncomeAvailableToCommonStockholdersBasic(368900000.0)+PreferredStockDividendsAndOtherAdjustments(0)Z\n",
      "1: Imputed NetCashFlowsOperatingDiscontinued: 0.0  from NetCashFlowsOperating(2278700000.0) == NetCashFlowsOperatingContinuing(2278700000.0)+NetCashFlowsOperatingDiscontinued(0)Z\n",
      "1: Imputed NetCashFlowsInvestingDiscontinued: 0.0  from NetCashFlowsInvesting(-1919800000.0) == NetCashFlowsInvestingContinuing(-1919800000.0)+NetCashFlowsInvestingDiscontinued(0)Z\n",
      "1: Imputed NetCashFlowsFinancingDiscontinued: 0.0  from NetCashFlowsFinancing(-1525800000.0) == NetCashFlowsFinancingContinuing(-1525800000.0)+NetCashFlowsFinancingDiscontinued(0)Z\n",
      "2: Imputed NetCashFlowsDiscontinued: 0.0  from NetCashFlowsDiscontinued(0) == NetCashFlowsOperatingDiscontinued(0.0)+NetCashFlowsInvestingDiscontinued(0.0)+NetCashFlowsFinancingDiscontinued(0.0)\n",
      "IS1: GrossProfit(0) == Revenues(13182700000.0) - CostOfRevenue(0),  -13182700000.0\n",
      "IS2_5: NonoperatingIncomeLossPlusInterestAndDebtExpense(535400000.0) == NonoperatingIncomeLoss(0) + InterestAndDebtExpense(0),  535400000.0\n",
      "IS11: OperatingIncomeLoss(0) == Revenues(13182700000.0) + OtherOperatingIncome(0) - CostsAndExpenses(0),  -13182700000.0\n",
      "3 impute passes\n",
      "0: Imputed NoncurrentAssets: 33250100000.0  from Assets(41494500000.0) == CurrentAssets(8244400000.0)+NoncurrentAssets(0)\n",
      "0: Imputed Equity: 10405800000.0  from Equity(0) == EquityAttributableToParent(10405800000.0)+EquityAttributableToNoncontrollingInterest(0)Z\n",
      "0: Imputed NetIncomeAvailableToCommonStockholdersBasic: 1657900000.0  from NetIncomeAttributableToParent(1657900000.0) == NetIncomeAvailableToCommonStockholdersBasic(0)+PreferredStockDividendsAndOtherAdjustments(0)Z\n",
      "0: Imputed IncomeFromContinuingOperationsAfterTax: 1657900000.0  from NetIncomeLoss(1657900000.0) == IncomeFromContinuingOperationsAfterTax(0)+IncomeFromDiscontinuedOperations(0)Z+ExtraordinaryItemsGainLoss(0)Z\n",
      "0: Imputed NetIncomeAttributableToNoncontrollingInterest: 0.0  from NetIncomeLoss(1657900000.0) == NetIncomeAttributableToParent(1657900000.0)+NetIncomeAttributableToNoncontrollingInterest(0)\n",
      "0: Imputed NonoperatingIncomeLossPlusInterestAndDebtExpense: 2498500000.0  from NonoperatingIncomeLossPlusInterestAndDebtExpense(0)+IncomeFromEquityMethodInvestments(46900000.0) == NonoperatingIncomePlusInterestAndDebtExpensePlusIncomeFromEquityMethodInvestments(2545400000.0)\n",
      "0: Imputed NetCashFlowsOperatingContinuing: 1822000000.0  from NetCashFlowsOperating(1822000000.0) == NetCashFlowsOperatingContinuing(0)+NetCashFlowsOperatingDiscontinued(0)Z\n",
      "0: Imputed NetCashFlowsInvestingContinuing: -231300000.0  from NetCashFlowsInvesting(-231300000.0) == NetCashFlowsInvestingContinuing(0)+NetCashFlowsInvestingDiscontinued(0)Z\n",
      "0: Imputed NetCashFlowsFinancingContinuing: 308800000.0  from NetCashFlowsFinancing(308800000.0) == NetCashFlowsFinancingContinuing(0)+NetCashFlowsFinancingDiscontinued(0)Z\n",
      "0: Imputed ExchangeGainsLosses: 0.0  from NetCashFlow(1899500000.0) == NetCashFlowsOperating(1822000000.0)+NetCashFlowsInvesting(-231300000.0)+NetCashFlowsFinancing(308800000.0)+ExchangeGainsLosses(0)Z\n",
      "1: Imputed EquityAttributableToNoncontrollingInterest: 0.0  from Equity(10405800000.0) == EquityAttributableToParent(10405800000.0)+EquityAttributableToNoncontrollingInterest(0)Z\n",
      "1: Imputed NonoperatingIncomeLoss: 2229700000.0  from NonoperatingIncomeLossPlusInterestAndDebtExpense(2498500000.0) == NonoperatingIncomeLoss(0)+InterestAndDebtExpense(268800000.0)\n",
      "1: Imputed PreferredStockDividendsAndOtherAdjustments: 0.0  from NetIncomeAttributableToParent(1657900000.0) == NetIncomeAvailableToCommonStockholdersBasic(1657900000.0)+PreferredStockDividendsAndOtherAdjustments(0)Z\n",
      "1: Imputed OperatingIncomeLoss: 584500000.0  from IncomeBeforeEquityMethodInvestments(2545400000.0)+InterestAndDebtExpense(268800000.0) == OperatingIncomeLoss(0)+NonoperatingIncomeLoss(2229700000.0)\n",
      "1: Imputed NetCashFlowsOperatingDiscontinued: 0.0  from NetCashFlowsOperating(1822000000.0) == NetCashFlowsOperatingContinuing(1822000000.0)+NetCashFlowsOperatingDiscontinued(0)Z\n",
      "1: Imputed NetCashFlowsInvestingDiscontinued: 0.0  from NetCashFlowsInvesting(-231300000.0) == NetCashFlowsInvestingContinuing(-231300000.0)+NetCashFlowsInvestingDiscontinued(0)Z\n",
      "1: Imputed NetCashFlowsFinancingDiscontinued: 0.0  from NetCashFlowsFinancing(308800000.0) == NetCashFlowsFinancingContinuing(308800000.0)+NetCashFlowsFinancingDiscontinued(0)Z\n",
      "2: Imputed CostsAndExpenses: 36011400000.0  from CostsAndExpenses(0)+OperatingIncomeLoss(584500000.0) == Revenues(36595900000.0)+OtherOperatingIncome(0)Z\n",
      "2: Imputed CostOfRevenue: 29135000000.0  from CostsAndExpenses(36011400000.0) == CostOfRevenue(0)+OperatingExpenses(6876400000.0)Z\n",
      "2: Imputed NetCashFlowsDiscontinued: 0.0  from NetCashFlowsDiscontinued(0) == NetCashFlowsOperatingDiscontinued(0.0)+NetCashFlowsInvestingDiscontinued(0.0)+NetCashFlowsFinancingDiscontinued(0.0)\n",
      "3: Imputed GrossProfit: 7460900000.0  from Revenues(36595900000.0) == GrossProfit(0)+CostOfRevenue(29135000000.0)\n",
      "3: Imputed OtherOperatingIncome: 0.0  from OtherOperatingIncome(0)+GrossProfit(7460900000.0) == OperatingIncomeLoss(584500000.0)+OperatingExpenses(6876400000.0)\n",
      "IS3: IncomeBeforeEquityMethodInvestments(2545400000.0) == OperatingIncomeLoss(584500000.0) + NonoperatingIncomeLossPlusInterestAndDebtExpense(2498500000.0),  -537600000.0\n",
      "IS4: IncomeFromContinuingOperationsBeforeTax(2545400000.0) == IncomeBeforeEquityMethodInvestments(2545400000.0) + IncomeFromEquityMethodInvestments(46900000.0),  -46900000.0\n",
      "4 impute passes\n",
      "0: Imputed NoncurrentAssets: 32703100000.0  from Assets(38593100000.0) == CurrentAssets(5890000000.0)+NoncurrentAssets(0)\n",
      "0: Imputed Equity: 10120200000.0  from Equity(0) == EquityAttributableToParent(10120200000.0)+EquityAttributableToNoncontrollingInterest(0)Z\n",
      "0: Imputed NetIncomeAvailableToCommonStockholdersBasic: 1985700000.0  from NetIncomeAttributableToParent(1985700000.0) == NetIncomeAvailableToCommonStockholdersBasic(0)+PreferredStockDividendsAndOtherAdjustments(0)Z\n",
      "0: Imputed IncomeFromContinuingOperationsAfterTax: 1985700000.0  from NetIncomeLoss(1985700000.0) == IncomeFromContinuingOperationsAfterTax(0)+IncomeFromDiscontinuedOperations(0)Z+ExtraordinaryItemsGainLoss(0)Z\n",
      "0: Imputed NetIncomeAttributableToNoncontrollingInterest: 0.0  from NetIncomeLoss(1985700000.0) == NetIncomeAttributableToParent(1985700000.0)+NetIncomeAttributableToNoncontrollingInterest(0)\n",
      "0: Imputed OtherComprehensiveIncome: 0.0  from ComprehensiveIncome(1985700000.0) == OtherComprehensiveIncome(0)+NetIncomeLoss(1985700000.0)\n",
      "0: Imputed NonoperatingIncomeLossPlusInterestAndDebtExpense: 3079200000.0  from NonoperatingIncomeLossPlusInterestAndDebtExpense(0)+IncomeFromEquityMethodInvestments(-1400000.0) == NonoperatingIncomePlusInterestAndDebtExpensePlusIncomeFromEquityMethodInvestments(3077800000.0)\n",
      "0: Imputed NetCashFlowsOperatingContinuing: 2507800000.0  from NetCashFlowsOperating(2507800000.0) == NetCashFlowsOperatingContinuing(0)+NetCashFlowsOperatingDiscontinued(0)Z\n",
      "0: Imputed NetCashFlowsInvestingContinuing: -1880200000.0  from NetCashFlowsInvesting(-1880200000.0) == NetCashFlowsInvestingContinuing(0)+NetCashFlowsInvestingDiscontinued(0)Z\n",
      "0: Imputed NetCashFlowsFinancingContinuing: -1815500000.0  from NetCashFlowsFinancing(-1815500000.0) == NetCashFlowsFinancingContinuing(0)+NetCashFlowsFinancingDiscontinued(0)Z\n",
      "0: Imputed ExchangeGainsLosses: 0.0  from NetCashFlow(-1187900000.0) == NetCashFlowsOperating(2507800000.0)+NetCashFlowsInvesting(-1880200000.0)+NetCashFlowsFinancing(-1815500000.0)+ExchangeGainsLosses(0)Z\n",
      "1: Imputed EquityAttributableToNoncontrollingInterest: 0.0  from Equity(10120200000.0) == EquityAttributableToParent(10120200000.0)+EquityAttributableToNoncontrollingInterest(0)Z\n",
      "1: Imputed NonoperatingIncomeLoss: 2832300000.0  from NonoperatingIncomeLossPlusInterestAndDebtExpense(3079200000.0) == NonoperatingIncomeLoss(0)+InterestAndDebtExpense(246900000.0)\n",
      "1: Imputed PreferredStockDividendsAndOtherAdjustments: 0.0  from NetIncomeAttributableToParent(1985700000.0) == NetIncomeAvailableToCommonStockholdersBasic(1985700000.0)+PreferredStockDividendsAndOtherAdjustments(0)Z\n",
      "1: Imputed OperatingIncomeLoss: 492400000.0  from IncomeBeforeEquityMethodInvestments(3077800000.0)+InterestAndDebtExpense(246900000.0) == OperatingIncomeLoss(0)+NonoperatingIncomeLoss(2832300000.0)\n",
      "1: Imputed NetCashFlowsOperatingDiscontinued: 0.0  from NetCashFlowsOperating(2507800000.0) == NetCashFlowsOperatingContinuing(2507800000.0)+NetCashFlowsOperatingDiscontinued(0)Z\n",
      "1: Imputed NetCashFlowsInvestingDiscontinued: 0.0  from NetCashFlowsInvesting(-1880200000.0) == NetCashFlowsInvestingContinuing(-1880200000.0)+NetCashFlowsInvestingDiscontinued(0)Z\n",
      "1: Imputed NetCashFlowsFinancingDiscontinued: 0.0  from NetCashFlowsFinancing(-1815500000.0) == NetCashFlowsFinancingContinuing(-1815500000.0)+NetCashFlowsFinancingDiscontinued(0)Z\n",
      "2: Imputed CostsAndExpenses: 33287400000.0  from CostsAndExpenses(0)+OperatingIncomeLoss(492400000.0) == Revenues(33779800000.0)+OtherOperatingIncome(0)Z\n",
      "2: Imputed CostOfRevenue: 26483000000.0  from CostsAndExpenses(33287400000.0) == CostOfRevenue(0)+OperatingExpenses(6804400000.0)Z\n",
      "2: Imputed NetCashFlowsDiscontinued: 0.0  from NetCashFlowsDiscontinued(0) == NetCashFlowsOperatingDiscontinued(0.0)+NetCashFlowsInvestingDiscontinued(0.0)+NetCashFlowsFinancingDiscontinued(0.0)\n",
      "3: Imputed GrossProfit: 7296800000.0  from Revenues(33779800000.0) == GrossProfit(0)+CostOfRevenue(26483000000.0)\n",
      "3: Imputed OtherOperatingIncome: 0.0  from OtherOperatingIncome(0)+GrossProfit(7296800000.0) == OperatingIncomeLoss(492400000.0)+OperatingExpenses(6804400000.0)\n",
      "IS3: IncomeBeforeEquityMethodInvestments(3077800000.0) == OperatingIncomeLoss(492400000.0) + NonoperatingIncomeLossPlusInterestAndDebtExpense(3079200000.0),  -493800000.0\n",
      "IS4: IncomeFromContinuingOperationsBeforeTax(3077800000.0) == IncomeBeforeEquityMethodInvestments(3077800000.0) + IncomeFromEquityMethodInvestments(-1400000.0),  1400000.0\n",
      "4 impute passes\n",
      "0: Imputed NoncurrentAssets: 30745200000.0  from Assets(37739400000.0) == CurrentAssets(6994200000.0)+NoncurrentAssets(0)\n",
      "0: Imputed Equity: 9890800000.0  from Equity(0) == EquityAttributableToParent(9890800000.0)+EquityAttributableToNoncontrollingInterest(0)Z\n",
      "0: Imputed NetIncomeAvailableToCommonStockholdersBasic: 1766800000.0  from NetIncomeAttributableToParent(1766800000.0) == NetIncomeAvailableToCommonStockholdersBasic(0)+PreferredStockDividendsAndOtherAdjustments(0)Z\n",
      "0: Imputed IncomeFromContinuingOperationsAfterTax: 1766800000.0  from NetIncomeLoss(1766800000.0) == IncomeFromContinuingOperationsAfterTax(0)+IncomeFromDiscontinuedOperations(0)Z+ExtraordinaryItemsGainLoss(0)Z\n",
      "0: Imputed NetIncomeAttributableToNoncontrollingInterest: 0.0  from NetIncomeLoss(1766800000.0) == NetIncomeAttributableToParent(1766800000.0)+NetIncomeAttributableToNoncontrollingInterest(0)\n",
      "0: Imputed OtherComprehensiveIncome: 0.0  from ComprehensiveIncome(1766800000.0) == OtherComprehensiveIncome(0)+NetIncomeLoss(1766800000.0)\n",
      "0: Imputed NonoperatingIncomeLossPlusInterestAndDebtExpense: 2611100000.0  from NonoperatingIncomeLossPlusInterestAndDebtExpense(0)+IncomeFromEquityMethodInvestments(33100000.0) == NonoperatingIncomePlusInterestAndDebtExpensePlusIncomeFromEquityMethodInvestments(2644200000.0)\n",
      "0: Imputed NetCashFlowsOperatingContinuing: 1412100000.0  from NetCashFlowsOperating(1412100000.0) == NetCashFlowsOperatingContinuing(0)+NetCashFlowsOperatingDiscontinued(0)Z\n",
      "0: Imputed NetCashFlowsInvestingContinuing: 634500000.0  from NetCashFlowsInvesting(634500000.0) == NetCashFlowsInvestingContinuing(0)+NetCashFlowsInvestingDiscontinued(0)Z\n",
      "0: Imputed NetCashFlowsFinancingContinuing: 1382600000.0  from NetCashFlowsFinancing(1382600000.0) == NetCashFlowsFinancingContinuing(0)+NetCashFlowsFinancingDiscontinued(0)Z\n",
      "0: Imputed ExchangeGainsLosses: -2765200000.0  from NetCashFlow(664000000.0) == NetCashFlowsOperating(1412100000.0)+NetCashFlowsInvesting(634500000.0)+NetCashFlowsFinancing(1382600000.0)+ExchangeGainsLosses(0)Z\n",
      "1: Imputed EquityAttributableToNoncontrollingInterest: 0.0  from Equity(9890800000.0) == EquityAttributableToParent(9890800000.0)+EquityAttributableToNoncontrollingInterest(0)Z\n",
      "1: Imputed NonoperatingIncomeLoss: 2356500000.0  from NonoperatingIncomeLossPlusInterestAndDebtExpense(2611100000.0) == NonoperatingIncomeLoss(0)+InterestAndDebtExpense(254600000.0)\n",
      "1: Imputed PreferredStockDividendsAndOtherAdjustments: 0.0  from NetIncomeAttributableToParent(1766800000.0) == NetIncomeAvailableToCommonStockholdersBasic(1766800000.0)+PreferredStockDividendsAndOtherAdjustments(0)Z\n",
      "1: Imputed OperatingIncomeLoss: 542300000.0  from IncomeBeforeEquityMethodInvestments(2644200000.0)+InterestAndDebtExpense(254600000.0) == OperatingIncomeLoss(0)+NonoperatingIncomeLoss(2356500000.0)\n",
      "1: Imputed NetCashFlowsOperatingDiscontinued: 0.0  from NetCashFlowsOperating(1412100000.0) == NetCashFlowsOperatingContinuing(1412100000.0)+NetCashFlowsOperatingDiscontinued(0)Z\n",
      "1: Imputed NetCashFlowsInvestingDiscontinued: 0.0  from NetCashFlowsInvesting(634500000.0) == NetCashFlowsInvestingContinuing(634500000.0)+NetCashFlowsInvestingDiscontinued(0)Z\n",
      "1: Imputed NetCashFlowsFinancingDiscontinued: 0.0  from NetCashFlowsFinancing(1382600000.0) == NetCashFlowsFinancingContinuing(1382600000.0)+NetCashFlowsFinancingDiscontinued(0)Z\n",
      "2: Imputed CostsAndExpenses: 33703700000.0  from CostsAndExpenses(0)+OperatingIncomeLoss(542300000.0) == Revenues(34246000000.0)+OtherOperatingIncome(0)Z\n",
      "2: Imputed CostOfRevenue: 27184700000.0  from CostsAndExpenses(33703700000.0) == CostOfRevenue(0)+OperatingExpenses(6519000000.0)Z\n",
      "2: Imputed NetCashFlowsDiscontinued: 0.0  from NetCashFlowsDiscontinued(0) == NetCashFlowsOperatingDiscontinued(0.0)+NetCashFlowsInvestingDiscontinued(0.0)+NetCashFlowsFinancingDiscontinued(0.0)\n",
      "3: Imputed GrossProfit: 7061300000.0  from Revenues(34246000000.0) == GrossProfit(0)+CostOfRevenue(27184700000.0)\n",
      "3: Imputed OtherOperatingIncome: 0.0  from OtherOperatingIncome(0)+GrossProfit(7061300000.0) == OperatingIncomeLoss(542300000.0)+OperatingExpenses(6519000000.0)\n",
      "IS3: IncomeBeforeEquityMethodInvestments(2644200000.0) == OperatingIncomeLoss(542300000.0) + NonoperatingIncomeLossPlusInterestAndDebtExpense(2611100000.0),  -509200000.0\n",
      "IS4: IncomeFromContinuingOperationsBeforeTax(2644200000.0) == IncomeBeforeEquityMethodInvestments(2644200000.0) + IncomeFromEquityMethodInvestments(33100000.0),  -33100000.0\n",
      "4 impute passes\n",
      "0: Imputed NoncurrentAssets: 31723500000.0  from Assets(38550400000.0) == CurrentAssets(6826900000.0)+NoncurrentAssets(0)\n",
      "0: Imputed Equity: 9503800000.0  from Equity(0) == EquityAttributableToParent(9503800000.0)+EquityAttributableToNoncontrollingInterest(0)Z\n",
      "0: Imputed NetIncomeAvailableToCommonStockholdersBasic: 1276500000.0  from NetIncomeAttributableToParent(1276500000.0) == NetIncomeAvailableToCommonStockholdersBasic(0)+PreferredStockDividendsAndOtherAdjustments(0)Z\n",
      "0: Imputed IncomeFromContinuingOperationsAfterTax: 1276500000.0  from NetIncomeLoss(1276500000.0) == IncomeFromContinuingOperationsAfterTax(0)+IncomeFromDiscontinuedOperations(0)Z+ExtraordinaryItemsGainLoss(0)Z\n",
      "0: Imputed NetIncomeAttributableToNoncontrollingInterest: 0.0  from NetIncomeLoss(1276500000.0) == NetIncomeAttributableToParent(1276500000.0)+NetIncomeAttributableToNoncontrollingInterest(0)\n",
      "0: Imputed OtherComprehensiveIncome: 0.0  from ComprehensiveIncome(1276500000.0) == OtherComprehensiveIncome(0)+NetIncomeLoss(1276500000.0)\n",
      "0: Imputed IncomeFromContinuingOperationsBeforeTax: 1901200000.0  from IncomeFromContinuingOperationsBeforeTax(0) == IncomeFromContinuingOperationsAfterTax(1276500000.0)+IncomeTaxExpenseBenefit(624700000.0)\n",
      "0: Imputed IncomeBeforeEquityMethodInvestments: 1916900000.0  from IncomeBeforeEquityMethodInvestments(0)+IncomeFromEquityMethodInvestments(-15700000.0)Z == IncomeFromContinuingOperationsBeforeTax(1901200000.0)\n",
      "0: Imputed NonoperatingIncomeLossPlusInterestAndDebtExpense: 1901200000.0  from NonoperatingIncomeLossPlusInterestAndDebtExpense(0)+IncomeFromEquityMethodInvestments(-15700000.0) == NonoperatingIncomePlusInterestAndDebtExpensePlusIncomeFromEquityMethodInvestments(1885500000.0)\n",
      "0: Imputed NetCashFlowsOperatingContinuing: 2488300000.0  from NetCashFlowsOperating(2488300000.0) == NetCashFlowsOperatingContinuing(0)+NetCashFlowsOperatingDiscontinued(0)Z\n",
      "0: Imputed NetCashFlowsInvestingContinuing: -1999700000.0  from NetCashFlowsInvesting(-1999700000.0) == NetCashFlowsInvestingContinuing(0)+NetCashFlowsInvestingDiscontinued(0)Z\n",
      "0: Imputed NetCashFlowsFinancingContinuing: -464500000.0  from NetCashFlowsFinancing(-464500000.0) == NetCashFlowsFinancingContinuing(0)+NetCashFlowsFinancingDiscontinued(0)Z\n",
      "0: Imputed ExchangeGainsLosses: 0.0  from NetCashFlow(24100000.0) == NetCashFlowsOperating(2488300000.0)+NetCashFlowsInvesting(-1999700000.0)+NetCashFlowsFinancing(-464500000.0)+ExchangeGainsLosses(0)Z\n",
      "1: Imputed EquityAttributableToNoncontrollingInterest: 0.0  from Equity(9503800000.0) == EquityAttributableToParent(9503800000.0)+EquityAttributableToNoncontrollingInterest(0)Z\n",
      "1: Imputed NonoperatingIncomeLoss: 1657800000.0  from NonoperatingIncomeLossPlusInterestAndDebtExpense(1901200000.0) == NonoperatingIncomeLoss(0)+InterestAndDebtExpense(243400000.0)\n",
      "1: Imputed PreferredStockDividendsAndOtherAdjustments: 0.0  from NetIncomeAttributableToParent(1276500000.0) == NetIncomeAvailableToCommonStockholdersBasic(1276500000.0)+PreferredStockDividendsAndOtherAdjustments(0)Z\n",
      "1: Imputed CostsAndExpenses: 34748400000.0  from CostsAndExpenses(0)+OperatingIncomeLoss(15700000.0) == Revenues(34764100000.0)+OtherOperatingIncome(0)Z\n",
      "1: Imputed CostOfRevenue: 28365400000.0  from CostsAndExpenses(34748400000.0) == CostOfRevenue(0)+OperatingExpenses(6383000000.0)Z\n",
      "1: Imputed NetCashFlowsOperatingDiscontinued: 0.0  from NetCashFlowsOperating(2488300000.0) == NetCashFlowsOperatingContinuing(2488300000.0)+NetCashFlowsOperatingDiscontinued(0)Z\n",
      "1: Imputed NetCashFlowsInvestingDiscontinued: 0.0  from NetCashFlowsInvesting(-1999700000.0) == NetCashFlowsInvestingContinuing(-1999700000.0)+NetCashFlowsInvestingDiscontinued(0)Z\n",
      "1: Imputed NetCashFlowsFinancingDiscontinued: 0.0  from NetCashFlowsFinancing(-464500000.0) == NetCashFlowsFinancingContinuing(-464500000.0)+NetCashFlowsFinancingDiscontinued(0)Z\n",
      "2: Imputed GrossProfit: 6398700000.0  from Revenues(34764100000.0) == GrossProfit(0)+CostOfRevenue(28365400000.0)\n",
      "2: Imputed OtherOperatingIncome: 0.0  from OtherOperatingIncome(0)+GrossProfit(6398700000.0) == OperatingIncomeLoss(15700000.0)+OperatingExpenses(6383000000.0)\n",
      "2: Imputed NetCashFlowsDiscontinued: 0.0  from NetCashFlowsDiscontinued(0) == NetCashFlowsOperatingDiscontinued(0.0)+NetCashFlowsInvestingDiscontinued(0.0)+NetCashFlowsFinancingDiscontinued(0.0)\n",
      "3 impute passes\n"
     ]
    }
   ],
   "source": [
    "y = lambda x : xbrl.XBRL(x)\n",
    "TCKR_df['xbrl']=TCKR_df['Fileloc'].apply(y)"
   ]
  },
  {
   "cell_type": "code",
   "execution_count": 38,
   "metadata": {
    "collapsed": false
   },
   "outputs": [],
   "source": [
    "tenk_df = TCKR_df.copy()"
   ]
  },
  {
   "cell_type": "code",
   "execution_count": 39,
   "metadata": {
    "collapsed": false
   },
   "outputs": [
    {
     "data": {
      "text/html": [
       "<div>\n",
       "<table border=\"1\" class=\"dataframe\">\n",
       "  <thead>\n",
       "    <tr style=\"text-align: right;\">\n",
       "      <th></th>\n",
       "      <th>Filings</th>\n",
       "      <th>Acc</th>\n",
       "      <th>Filing Date</th>\n",
       "      <th>Fileloc</th>\n",
       "      <th>xbrl</th>\n",
       "    </tr>\n",
       "  </thead>\n",
       "  <tbody>\n",
       "    <tr>\n",
       "      <th>0</th>\n",
       "      <td>10-Q</td>\n",
       "      <td>0001122304-15-000131</td>\n",
       "      <td>2015-08-04</td>\n",
       "      <td>/tmp/aet-20150630.xml</td>\n",
       "      <td>&lt;pysec.util.xbrl.XBRL object at 0x10b0811d0&gt;</td>\n",
       "    </tr>\n",
       "    <tr>\n",
       "      <th>1</th>\n",
       "      <td>10-Q</td>\n",
       "      <td>0001122304-15-000074</td>\n",
       "      <td>2015-04-28</td>\n",
       "      <td>/tmp/aet-20150331.xml</td>\n",
       "      <td>&lt;pysec.util.xbrl.XBRL object at 0x10b081250&gt;</td>\n",
       "    </tr>\n",
       "    <tr>\n",
       "      <th>2</th>\n",
       "      <td>10-Q</td>\n",
       "      <td>0001122304-14-000149</td>\n",
       "      <td>2014-10-28</td>\n",
       "      <td>/tmp/aet-20140930.xml</td>\n",
       "      <td>&lt;pysec.util.xbrl.XBRL object at 0x10b0bfb10&gt;</td>\n",
       "    </tr>\n",
       "    <tr>\n",
       "      <th>3</th>\n",
       "      <td>10-Q</td>\n",
       "      <td>0001122304-14-000126</td>\n",
       "      <td>2014-07-29</td>\n",
       "      <td>/tmp/aet-20140630.xml</td>\n",
       "      <td>&lt;pysec.util.xbrl.XBRL object at 0x10b3ce3d0&gt;</td>\n",
       "    </tr>\n",
       "    <tr>\n",
       "      <th>4</th>\n",
       "      <td>10-Q</td>\n",
       "      <td>0001122304-14-000067</td>\n",
       "      <td>2014-04-24</td>\n",
       "      <td>/tmp/aet-20140331.xml</td>\n",
       "      <td>&lt;pysec.util.xbrl.XBRL object at 0x10b3ce150&gt;</td>\n",
       "    </tr>\n",
       "    <tr>\n",
       "      <th>5</th>\n",
       "      <td>10-Q</td>\n",
       "      <td>0001122304-13-000138</td>\n",
       "      <td>2013-10-29</td>\n",
       "      <td>/tmp/aet-20130930.xml</td>\n",
       "      <td>&lt;pysec.util.xbrl.XBRL object at 0x10b3ce2d0&gt;</td>\n",
       "    </tr>\n",
       "    <tr>\n",
       "      <th>6</th>\n",
       "      <td>10-Q</td>\n",
       "      <td>0001122304-13-000123</td>\n",
       "      <td>2013-07-30</td>\n",
       "      <td>/tmp/aet-20130630.xml</td>\n",
       "      <td>&lt;pysec.util.xbrl.XBRL object at 0x10b3ce690&gt;</td>\n",
       "    </tr>\n",
       "    <tr>\n",
       "      <th>7</th>\n",
       "      <td>10-Q</td>\n",
       "      <td>0001122304-13-000067</td>\n",
       "      <td>2013-04-30</td>\n",
       "      <td>/tmp/aet-20130331.xml</td>\n",
       "      <td>&lt;pysec.util.xbrl.XBRL object at 0x10b3cea50&gt;</td>\n",
       "    </tr>\n",
       "    <tr>\n",
       "      <th>8</th>\n",
       "      <td>10-Q</td>\n",
       "      <td>0001122304-12-000143</td>\n",
       "      <td>2012-10-25</td>\n",
       "      <td>/tmp/aet-20120930.xml</td>\n",
       "      <td>&lt;pysec.util.xbrl.XBRL object at 0x10b3ce090&gt;</td>\n",
       "    </tr>\n",
       "    <tr>\n",
       "      <th>9</th>\n",
       "      <td>10-Q</td>\n",
       "      <td>0001122304-12-000122</td>\n",
       "      <td>2012-07-31</td>\n",
       "      <td>/tmp/aet-20120630.xml</td>\n",
       "      <td>&lt;pysec.util.xbrl.XBRL object at 0x10b3ce410&gt;</td>\n",
       "    </tr>\n",
       "    <tr>\n",
       "      <th>10</th>\n",
       "      <td>10-Q</td>\n",
       "      <td>0001122304-12-000077</td>\n",
       "      <td>2012-04-26</td>\n",
       "      <td>/tmp/aet-20120331.xml</td>\n",
       "      <td>&lt;pysec.util.xbrl.XBRL object at 0x10b3ceb50&gt;</td>\n",
       "    </tr>\n",
       "    <tr>\n",
       "      <th>11</th>\n",
       "      <td>10-Q</td>\n",
       "      <td>0001122304-11-000114</td>\n",
       "      <td>2011-10-27</td>\n",
       "      <td>/tmp/aet-20110930.xml</td>\n",
       "      <td>&lt;pysec.util.xbrl.XBRL object at 0x10b3cef10&gt;</td>\n",
       "    </tr>\n",
       "    <tr>\n",
       "      <th>12</th>\n",
       "      <td>10-Q</td>\n",
       "      <td>0001122304-11-000080</td>\n",
       "      <td>2011-07-27</td>\n",
       "      <td>/tmp/aet-20110630.xml</td>\n",
       "      <td>&lt;pysec.util.xbrl.XBRL object at 0x10b3d9090&gt;</td>\n",
       "    </tr>\n",
       "    <tr>\n",
       "      <th>13</th>\n",
       "      <td>10-Q</td>\n",
       "      <td>0001122304-11-000051</td>\n",
       "      <td>2011-04-28</td>\n",
       "      <td>/tmp/aet-20110331.xml</td>\n",
       "      <td>&lt;pysec.util.xbrl.XBRL object at 0x10b3d95d0&gt;</td>\n",
       "    </tr>\n",
       "    <tr>\n",
       "      <th>14</th>\n",
       "      <td>10-Q</td>\n",
       "      <td>0001122304-10-000110</td>\n",
       "      <td>2010-11-03</td>\n",
       "      <td>/tmp/aet-20100930.xml</td>\n",
       "      <td>&lt;pysec.util.xbrl.XBRL object at 0x10b3d9710&gt;</td>\n",
       "    </tr>\n",
       "    <tr>\n",
       "      <th>15</th>\n",
       "      <td>10-Q</td>\n",
       "      <td>0001122304-10-000078</td>\n",
       "      <td>2010-07-28</td>\n",
       "      <td>/tmp/aet-20100630.xml</td>\n",
       "      <td>&lt;pysec.util.xbrl.XBRL object at 0x10b3d9790&gt;</td>\n",
       "    </tr>\n",
       "    <tr>\n",
       "      <th>16</th>\n",
       "      <td>10-Q</td>\n",
       "      <td>0001122304-10-000046</td>\n",
       "      <td>2010-04-29</td>\n",
       "      <td>/tmp/aet-20100331.xml</td>\n",
       "      <td>&lt;pysec.util.xbrl.XBRL object at 0x10b3d9990&gt;</td>\n",
       "    </tr>\n",
       "    <tr>\n",
       "      <th>17</th>\n",
       "      <td>10-Q</td>\n",
       "      <td>0001122304-09-000105</td>\n",
       "      <td>2009-10-29</td>\n",
       "      <td>/tmp/aet-20090930.xml</td>\n",
       "      <td>&lt;pysec.util.xbrl.XBRL object at 0x10b3d9dd0&gt;</td>\n",
       "    </tr>\n",
       "    <tr>\n",
       "      <th>18</th>\n",
       "      <td>10-Q</td>\n",
       "      <td>0001122304-09-000091</td>\n",
       "      <td>2009-07-31</td>\n",
       "      <td>/tmp/aet-20090630.xml</td>\n",
       "      <td>&lt;pysec.util.xbrl.XBRL object at 0x10b3d9bd0&gt;</td>\n",
       "    </tr>\n",
       "  </tbody>\n",
       "</table>\n",
       "</div>"
      ],
      "text/plain": [
       "   Filings                   Acc Filing Date                Fileloc  \\\n",
       "0     10-Q  0001122304-15-000131  2015-08-04  /tmp/aet-20150630.xml   \n",
       "1     10-Q  0001122304-15-000074  2015-04-28  /tmp/aet-20150331.xml   \n",
       "2     10-Q  0001122304-14-000149  2014-10-28  /tmp/aet-20140930.xml   \n",
       "3     10-Q  0001122304-14-000126  2014-07-29  /tmp/aet-20140630.xml   \n",
       "4     10-Q  0001122304-14-000067  2014-04-24  /tmp/aet-20140331.xml   \n",
       "5     10-Q  0001122304-13-000138  2013-10-29  /tmp/aet-20130930.xml   \n",
       "6     10-Q  0001122304-13-000123  2013-07-30  /tmp/aet-20130630.xml   \n",
       "7     10-Q  0001122304-13-000067  2013-04-30  /tmp/aet-20130331.xml   \n",
       "8     10-Q  0001122304-12-000143  2012-10-25  /tmp/aet-20120930.xml   \n",
       "9     10-Q  0001122304-12-000122  2012-07-31  /tmp/aet-20120630.xml   \n",
       "10    10-Q  0001122304-12-000077  2012-04-26  /tmp/aet-20120331.xml   \n",
       "11    10-Q  0001122304-11-000114  2011-10-27  /tmp/aet-20110930.xml   \n",
       "12    10-Q  0001122304-11-000080  2011-07-27  /tmp/aet-20110630.xml   \n",
       "13    10-Q  0001122304-11-000051  2011-04-28  /tmp/aet-20110331.xml   \n",
       "14    10-Q  0001122304-10-000110  2010-11-03  /tmp/aet-20100930.xml   \n",
       "15    10-Q  0001122304-10-000078  2010-07-28  /tmp/aet-20100630.xml   \n",
       "16    10-Q  0001122304-10-000046  2010-04-29  /tmp/aet-20100331.xml   \n",
       "17    10-Q  0001122304-09-000105  2009-10-29  /tmp/aet-20090930.xml   \n",
       "18    10-Q  0001122304-09-000091  2009-07-31  /tmp/aet-20090630.xml   \n",
       "\n",
       "                                            xbrl  \n",
       "0   <pysec.util.xbrl.XBRL object at 0x10b0811d0>  \n",
       "1   <pysec.util.xbrl.XBRL object at 0x10b081250>  \n",
       "2   <pysec.util.xbrl.XBRL object at 0x10b0bfb10>  \n",
       "3   <pysec.util.xbrl.XBRL object at 0x10b3ce3d0>  \n",
       "4   <pysec.util.xbrl.XBRL object at 0x10b3ce150>  \n",
       "5   <pysec.util.xbrl.XBRL object at 0x10b3ce2d0>  \n",
       "6   <pysec.util.xbrl.XBRL object at 0x10b3ce690>  \n",
       "7   <pysec.util.xbrl.XBRL object at 0x10b3cea50>  \n",
       "8   <pysec.util.xbrl.XBRL object at 0x10b3ce090>  \n",
       "9   <pysec.util.xbrl.XBRL object at 0x10b3ce410>  \n",
       "10  <pysec.util.xbrl.XBRL object at 0x10b3ceb50>  \n",
       "11  <pysec.util.xbrl.XBRL object at 0x10b3cef10>  \n",
       "12  <pysec.util.xbrl.XBRL object at 0x10b3d9090>  \n",
       "13  <pysec.util.xbrl.XBRL object at 0x10b3d95d0>  \n",
       "14  <pysec.util.xbrl.XBRL object at 0x10b3d9710>  \n",
       "15  <pysec.util.xbrl.XBRL object at 0x10b3d9790>  \n",
       "16  <pysec.util.xbrl.XBRL object at 0x10b3d9990>  \n",
       "17  <pysec.util.xbrl.XBRL object at 0x10b3d9dd0>  \n",
       "18  <pysec.util.xbrl.XBRL object at 0x10b3d9bd0>  "
      ]
     },
     "execution_count": 39,
     "metadata": {},
     "output_type": "execute_result"
    }
   ],
   "source": [
    "tenq_df"
   ]
  },
  {
   "cell_type": "code",
   "execution_count": 47,
   "metadata": {
    "collapsed": false
   },
   "outputs": [],
   "source": [
    "a = tenk_df.ix[1,'xbrl']"
   ]
  },
  {
   "cell_type": "code",
   "execution_count": 81,
   "metadata": {
    "collapsed": false
   },
   "outputs": [
    {
     "data": {
      "text/plain": [
       "1412300000.0"
      ]
     },
     "execution_count": 81,
     "metadata": {},
     "output_type": "execute_result"
    }
   ],
   "source": [
    "a.GetFactValue('us-gaap:CashAndCashEquivalentsAtCarryingValue','Instant')"
   ]
  },
  {
   "cell_type": "code",
   "execution_count": 79,
   "metadata": {
    "collapsed": false
   },
   "outputs": [
    {
     "data": {
      "text/plain": [
       "1412300000.0"
      ]
     },
     "execution_count": 79,
     "metadata": {},
     "output_type": "execute_result"
    }
   ],
   "source": [
    "a.fields['Cash']"
   ]
  },
  {
   "cell_type": "code",
   "execution_count": null,
   "metadata": {
    "collapsed": true
   },
   "outputs": [],
   "source": []
  }
 ],
 "metadata": {
  "kernelspec": {
   "display_name": "Python 2",
   "language": "python",
   "name": "python2"
  },
  "language_info": {
   "codemirror_mode": {
    "name": "ipython",
    "version": 2
   },
   "file_extension": ".py",
   "mimetype": "text/x-python",
   "name": "python",
   "nbconvert_exporter": "python",
   "pygments_lexer": "ipython2",
   "version": "2.7.5"
  }
 },
 "nbformat": 4,
 "nbformat_minor": 0
}
