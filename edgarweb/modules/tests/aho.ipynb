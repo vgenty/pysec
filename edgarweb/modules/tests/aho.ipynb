{
 "cells": [
  {
   "cell_type": "code",
   "execution_count": 45,
   "metadata": {
    "collapsed": false
   },
   "outputs": [
    {
     "name": "stdout",
     "output_type": "stream",
     "text": [
      "4.05311584473e-06\n",
      "1.42243814468\n",
      "Got acc table...\n",
      "1.22478199005\n",
      "Threaded out the fifo...\n",
      "4.72913193703\n",
      "finished waiting for sec...\n",
      "0.0157749652863\n",
      "pulled data out of FIFO\n",
      "0.0\n",
      "built XBRL objects...\n"
     ]
    }
   ],
   "source": [
    "from pysec.util import company_utilities as cu\n",
    "\n",
    "T = 'GOOG'\n",
    "\n",
    "a = cu.get_company_df(T,'q')\n",
    "a = cu.build_xbrl(a)"
   ]
  },
  {
   "cell_type": "code",
   "execution_count": 65,
   "metadata": {
    "collapsed": false
   },
   "outputs": [],
   "source": [
    "j = a.ix[0,'xbrl']"
   ]
  },
  {
   "cell_type": "code",
   "execution_count": 85,
   "metadata": {
    "collapsed": false
   },
   "outputs": [
    {
     "ename": "KeyError",
     "evalue": "'Revenue'",
     "output_type": "error",
     "traceback": [
      "\u001b[0;31m---------------------------------------------------------------------------\u001b[0m",
      "\u001b[0;31mKeyError\u001b[0m                                  Traceback (most recent call last)",
      "\u001b[0;32m<ipython-input-85-39c55472c9a8>\u001b[0m in \u001b[0;36m<module>\u001b[0;34m()\u001b[0m\n\u001b[0;32m----> 1\u001b[0;31m \u001b[0;32mprint\u001b[0m \u001b[0mj\u001b[0m\u001b[0;34m.\u001b[0m\u001b[0mfields\u001b[0m\u001b[0;34m[\u001b[0m\u001b[0;34m'Revenue'\u001b[0m\u001b[0;34m]\u001b[0m\u001b[0;34m\u001b[0m\u001b[0m\n\u001b[0m",
      "\u001b[0;31mKeyError\u001b[0m: 'Revenue'"
     ]
    }
   ],
   "source": [
    "print j.fields['Revenue']"
   ]
  },
  {
   "cell_type": "code",
   "execution_count": 79,
   "metadata": {
    "collapsed": false
   },
   "outputs": [
    {
     "name": "stdout",
     "output_type": "stream",
     "text": [
      "1.11783e+11\n"
     ]
    }
   ],
   "source": [
    "print j.GetFactValue('us-gaap:StockholdersEquity','Instant')"
   ]
  },
  {
   "cell_type": "code",
   "execution_count": 42,
   "metadata": {
    "collapsed": true
   },
   "outputs": [
    {
     "data": {
      "text/plain": [
       "{u'AccountsReceivable': 820900000.0,\n",
       " u'Assets': 36762600000.0,\n",
       " 'BalanceSheetDate': '2009-06-30',\n",
       " u'Cash': 1207500000.0,\n",
       " u'Changed': 26,\n",
       " u'CommitmentsAndContingencies': 0,\n",
       " u'ComprehensiveIncome': 346600000.0,\n",
       " u'ComprehensiveIncomeAttributableToNoncontrollingInterest': 0,\n",
       " u'ComprehensiveIncomeAttributableToParent': 346600000.0,\n",
       " u'CostOfRevenue': 7085400000.0,\n",
       " u'CostsAndExpenses': 8549400000.0,\n",
       " u'CurrentAssets': 6917700000.0,\n",
       " u'CurrentLiabilities': 7934200000.0,\n",
       " u'DividendPerShare': 0,\n",
       " 'DocumentType': '10-Q',\n",
       " u'EarningsPerShare': 0.78,\n",
       " u'Equity': 8877200000.0,\n",
       " u'EquityAttributableToNoncontrollingInterest': 0.0,\n",
       " u'EquityAttributableToParent': 8877200000.0,\n",
       " u'ExchangeGainsLosses': 0.0,\n",
       " u'ExtraordinaryItemsGainLoss': 0,\n",
       " u'FailedChecks': [u'IS3'],\n",
       " u'GrossProfit': 1585400000.0,\n",
       " u'IncomeBeforeEquityMethodInvestments': 515400000.0,\n",
       " u'IncomeFromContinuingOperationsAfterTax': 346600000.0,\n",
       " u'IncomeFromContinuingOperationsBeforeTax': 515400000.0,\n",
       " u'IncomeFromDiscontinuedOperations': 0,\n",
       " u'IncomeFromEquityMethodInvestments': 0.0,\n",
       " 'IncomeStatementPeriodYTD': '2009-01-01',\n",
       " u'IncomeTaxExpenseBenefit': 168800000.0,\n",
       " u'IntangibleAssets': 618400000.0,\n",
       " u'InterestAndDebtExpense': 60700000.0,\n",
       " u'Liabilities': 27885400000.0,\n",
       " u'LiabilitiesAndEquity': 36762600000.0,\n",
       " u'MarketableSecurities': 0,\n",
       " u'NetCashFlow': 28000000.0,\n",
       " u'NetCashFlowsContinuing': 28000000.0,\n",
       " u'NetCashFlowsDiscontinued': 0.0,\n",
       " u'NetCashFlowsFinancing': -515800000.0,\n",
       " u'NetCashFlowsFinancingContinuing': -515800000.0,\n",
       " u'NetCashFlowsFinancingDiscontinued': 0.0,\n",
       " u'NetCashFlowsInvesting': -382900000.0,\n",
       " u'NetCashFlowsInvestingContinuing': -382900000.0,\n",
       " u'NetCashFlowsInvestingDiscontinued': 0.0,\n",
       " u'NetCashFlowsOperating': 926700000.0,\n",
       " u'NetCashFlowsOperatingContinuing': 926700000.0,\n",
       " u'NetCashFlowsOperatingDiscontinued': 0.0,\n",
       " u'NetIncomeAttributableToNoncontrollingInterest': 0.0,\n",
       " u'NetIncomeAttributableToParent': 346600000.0,\n",
       " u'NetIncomeAvailableToCommonStockholdersBasic': 346600000.0,\n",
       " u'NetIncomeLoss': 346600000.0,\n",
       " u'NoncurrentAssets': 29844900000.0,\n",
       " u'NoncurrentLiabilities': 19951200000.0,\n",
       " u'NonoperatingIncomeLoss': 454700000.0,\n",
       " u'NonoperatingIncomeLossPlusInterestAndDebtExpense': 515400000.0,\n",
       " u'NonoperatingIncomePlusInterestAndDebtExpensePlusIncomeFromEquityMethodInvestments': 515400000.0,\n",
       " u'OperatingExpenses': 1464000000.0,\n",
       " u'OperatingIncomeLoss': 121400000.0,\n",
       " u'OtherComprehensiveIncome': 0.0,\n",
       " u'OtherOperatingIncome': 0.0,\n",
       " u'PreferredStockDividendsAndOtherAdjustments': 0.0,\n",
       " u'Revenues': 8670800000.0,\n",
       " u'SharesOutstanding': 436500000.0,\n",
       " u'TemporaryEquity': 0,\n",
       " 'TradingSymbol': 'Not provided'}"
      ]
     },
     "execution_count": 42,
     "metadata": {},
     "output_type": "execute_result"
    }
   ],
   "source": [
    "j.fields"
   ]
  },
  {
   "cell_type": "code",
   "execution_count": 61,
   "metadata": {
    "collapsed": false
   },
   "outputs": [
    {
     "name": "stdout",
     "output_type": "stream",
     "text": [
      "<pysec.util.xbrl.XBRL object at 0x10b359690>\n"
     ]
    }
   ],
   "source": [
    "print j"
   ]
  },
  {
   "cell_type": "code",
   "execution_count": 62,
   "metadata": {
    "collapsed": false
   },
   "outputs": [
    {
     "name": "stdout",
     "output_type": "stream",
     "text": [
      "   Filings                   Acc Filing Date                 Fileloc  \\\n",
      "18    10-Q  0001193125-09-163845  2009-08-04  /tmp/goog-20090630.xml   \n",
      "17    10-Q  0001193125-09-222384  2009-11-04  /tmp/goog-20090930.xml   \n",
      "16    10-Q  0001193125-10-108704  2010-05-05  /tmp/goog-20100331.xml   \n",
      "15    10-Q  0001193125-10-172387  2010-07-30  /tmp/goog-20100630.xml   \n",
      "14    10-Q  0001193125-10-241317  2010-10-29  /tmp/goog-20100930.xml   \n",
      "13    10-Q  0001193125-11-134428  2011-05-10  /tmp/goog-20110331.xml   \n",
      "12    10-Q  0001193125-11-199078  2011-07-27  /tmp/goog-20110630.xml   \n",
      "11    10-Q  0001193125-11-282235  2011-10-26  /tmp/goog-20110930.xml   \n",
      "10    10-Q  0001193125-12-182401  2012-04-25  /tmp/goog-20120331.xml   \n",
      "9     10-Q  0001193125-12-312575  2012-07-24  /tmp/goog-20120630.xml   \n",
      "8     10-Q  0001193125-12-440217  2012-10-30  /tmp/goog-20120930.xml   \n",
      "7     10-Q  0001288776-13-000030  2013-04-25  /tmp/goog-20130331.xml   \n",
      "6     10-Q  0001288776-13-000055  2013-07-25  /tmp/goog-20130630.xml   \n",
      "5     10-Q  0001288776-13-000068  2013-10-24  /tmp/goog-20130930.xml   \n",
      "4     10-Q  0001288776-14-000040  2014-04-24  /tmp/goog-20140331.xml   \n",
      "3     10-Q  0001288776-14-000065  2014-07-25  /tmp/goog-20140630.xml   \n",
      "2     10-Q  0001288776-14-000075  2014-10-23  /tmp/goog-20140930.xml   \n",
      "1     10-Q  0001288776-15-000023  2015-04-29  /tmp/goog-20150331.xml   \n",
      "0     10-Q  0001288776-15-000035  2015-07-23  /tmp/goog-20150630.xml   \n",
      "\n",
      "                                            xbrl       Date            DateStr  \n",
      "18  <pysec.util.xbrl.XBRL object at 0x10b359690> 2009-06-30       June 30 2009  \n",
      "17  <pysec.util.xbrl.XBRL object at 0x10b3592d0> 2009-09-30  September 30 2009  \n",
      "16  <pysec.util.xbrl.XBRL object at 0x10b377b90> 2010-03-31      March 31 2010  \n",
      "15  <pysec.util.xbrl.XBRL object at 0x10b304bd0> 2010-06-30       June 30 2010  \n",
      "14  <pysec.util.xbrl.XBRL object at 0x10b377a90> 2010-09-30  September 30 2010  \n",
      "13  <pysec.util.xbrl.XBRL object at 0x10b304950> 2011-03-31      March 31 2011  \n",
      "12  <pysec.util.xbrl.XBRL object at 0x10b377e90> 2011-06-30       June 30 2011  \n",
      "11  <pysec.util.xbrl.XBRL object at 0x10b377450> 2011-09-30  September 30 2011  \n",
      "10  <pysec.util.xbrl.XBRL object at 0x10b377290> 2012-03-31      March 31 2012  \n",
      "9   <pysec.util.xbrl.XBRL object at 0x10b2d2c90> 2012-06-30       June 30 2012  \n",
      "8   <pysec.util.xbrl.XBRL object at 0x10b2d2e90> 2012-09-30  September 30 2012  \n",
      "7   <pysec.util.xbrl.XBRL object at 0x10cc97110> 2013-03-31      March 31 2013  \n",
      "6   <pysec.util.xbrl.XBRL object at 0x10b2d8a50> 2013-06-30       June 30 2013  \n",
      "5   <pysec.util.xbrl.XBRL object at 0x10b316810> 2013-09-30  September 30 2013  \n",
      "4   <pysec.util.xbrl.XBRL object at 0x10cc97450> 2014-03-31      March 31 2014  \n",
      "3   <pysec.util.xbrl.XBRL object at 0x10cc97e90> 2014-06-30       June 30 2014  \n",
      "2   <pysec.util.xbrl.XBRL object at 0x10cc97b90> 2014-09-30  September 30 2014  \n",
      "1   <pysec.util.xbrl.XBRL object at 0x10cc977d0> 2015-03-31      March 31 2015  \n",
      "0   <pysec.util.xbrl.XBRL object at 0x10cc97210> 2015-06-30       June 30 2015  \n"
     ]
    }
   ],
   "source": [
    "print a"
   ]
  },
  {
   "cell_type": "code",
   "execution_count": null,
   "metadata": {
    "collapsed": true
   },
   "outputs": [],
   "source": []
  }
 ],
 "metadata": {
  "kernelspec": {
   "display_name": "Python 2",
   "language": "python",
   "name": "python2"
  },
  "language_info": {
   "codemirror_mode": {
    "name": "ipython",
    "version": 2
   },
   "file_extension": ".py",
   "mimetype": "text/x-python",
   "name": "python",
   "nbconvert_exporter": "python",
   "pygments_lexer": "ipython2",
   "version": "2.7.5"
  }
 },
 "nbformat": 4,
 "nbformat_minor": 0
}
