{
 "cells": [
  {
   "cell_type": "code",
   "execution_count": 1,
   "metadata": {
    "collapsed": false
   },
   "outputs": [
    {
     "data": {
      "text/plain": [
       "'aig-20090630.xml'"
      ]
     },
     "execution_count": 1,
     "metadata": {},
     "output_type": "execute_result"
    }
   ],
   "source": [
    "import pysec.util.edgar_utilies as eu\n",
    "import sym_to_ciks\n",
    "from pysec.util import ftp_connector\n",
    "ftp = ftp_connector.FTP_Connector()  \n",
    "d = {'short_cik' : '5272' , 'acc' : '000110465909053270'} \n",
    "a = ftp._connection.cwd(eu.ec.FTP_DIR % d)\n",
    "ftp.get_sec_XRBL(d['short_cik'],d['acc'])"
   ]
  },
  {
   "cell_type": "code",
   "execution_count": null,
   "metadata": {
    "collapsed": false
   },
   "outputs": [],
   "source": [
    "sym_to_ciks.sym_to_ciks['AIG']"
   ]
  },
  {
   "cell_type": "code",
   "execution_count": 3,
   "metadata": {
    "collapsed": false
   },
   "outputs": [],
   "source": [
    "aho = eu.get_acc_table({'cik' : eu.short_to_long_cik(sym_to_ciks.sym_to_ciks['AIG']),\n",
    "                  'qk'  : 'q'})\n",
    "\n",
    "\n",
    "#0001326801\n",
    "#0000051143"
   ]
  },
  {
   "cell_type": "code",
   "execution_count": 5,
   "metadata": {
    "collapsed": false
   },
   "outputs": [
    {
     "name": "stdout",
     "output_type": "stream",
     "text": [
      "aig-20150630.xml\n",
      "aig-20150331.xml\n",
      "aig-20140930.xml\n",
      "aig-20140630.xml\n",
      "aig-20140331.xml\n",
      "aig-20130930.xml\n",
      "aig-20130630.xml\n",
      "aig-20130331.xml\n",
      "aig-20120930.xml\n",
      "aig-20120630.xml\n",
      "aig-20120331.xml\n",
      "aig-20110930.xml\n",
      "aig-20110630.xml\n",
      "aig-20110331.xml\n",
      "aig-20100930.xml\n",
      "aig-20100630.xml\n",
      "aig-20100331.xml\n",
      "aig-20090930.xml\n",
      "aig-20090630.xml\n"
     ]
    }
   ],
   "source": [
    "for i in aho.Acc.values:\n",
    "    print ftp.get_sec_XRBL(sym_to_ciks.sym_to_ciks['AIG'],i)"
   ]
  },
  {
   "cell_type": "code",
   "execution_count": null,
   "metadata": {
    "collapsed": false
   },
   "outputs": [],
   "source": [
    "eu.remove_dashes_acc('0000005272-15-000014')"
   ]
  },
  {
   "cell_type": "code",
   "execution_count": null,
   "metadata": {
    "collapsed": true
   },
   "outputs": [],
   "source": [
    "from pysec.util import ftp_connector"
   ]
  },
  {
   "cell_type": "code",
   "execution_count": null,
   "metadata": {
    "collapsed": true
   },
   "outputs": [],
   "source": [
    "ftp = ftp_connector.FTP_Connector()  "
   ]
  },
  {
   "cell_type": "code",
   "execution_count": null,
   "metadata": {
    "collapsed": false
   },
   "outputs": [],
   "source": [
    "d = {'short_cik' : '5272' , 'acc' : '000110465909053270'} \n",
    "a = ftp._connection.cwd(eu.ec.FTP_DIR % d)"
   ]
  },
  {
   "cell_type": "code",
   "execution_count": null,
   "metadata": {
    "collapsed": true
   },
   "outputs": [],
   "source": [
    "b = ftp._connection.nlst()"
   ]
  },
  {
   "cell_type": "code",
   "execution_count": null,
   "metadata": {
    "collapsed": false
   },
   "outputs": [],
   "source": [
    "ftp.get_sec_XRBL(d['short_cik'],d['acc'])"
   ]
  },
  {
   "cell_type": "code",
   "execution_count": null,
   "metadata": {
    "collapsed": false
   },
   "outputs": [],
   "source": [
    "b"
   ]
  },
  {
   "cell_type": "code",
   "execution_count": null,
   "metadata": {
    "collapsed": true
   },
   "outputs": [],
   "source": []
  }
 ],
 "metadata": {
  "kernelspec": {
   "display_name": "Python 2",
   "language": "python",
   "name": "python2"
  },
  "language_info": {
   "codemirror_mode": {
    "name": "ipython",
    "version": 2
   },
   "file_extension": ".py",
   "mimetype": "text/x-python",
   "name": "python",
   "nbconvert_exporter": "python",
   "pygments_lexer": "ipython2",
   "version": "2.7.5"
  }
 },
 "nbformat": 4,
 "nbformat_minor": 0
}
