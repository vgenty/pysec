{
 "cells": [
  {
   "cell_type": "code",
   "execution_count": 3,
   "metadata": {
    "collapsed": false
   },
   "outputs": [
    {
     "data": {
      "text/plain": [
       "'/tmp/aig-20090630.xml'"
      ]
     },
     "execution_count": 3,
     "metadata": {},
     "output_type": "execute_result"
    }
   ],
   "source": [
    "import pysec.util.edgar_utilies as eu\n",
    "import sym_to_ciks\n",
    "from pysec.util import ftp_connector\n",
    "ftp = ftp_connector.FTP_Connector()  \n",
    "d = {'short_cik' : '5272' , 'acc' : '000110465909053270'} \n",
    "a = ftp.connection.cwd(eu.ec.FTP_DIR % d)\n",
    "ftp.get_sec_XRBL(d['short_cik'],d['acc'])"
   ]
  },
  {
   "cell_type": "code",
   "execution_count": 9,
   "metadata": {
    "collapsed": false
   },
   "outputs": [
    {
     "data": {
      "text/plain": [
       "5272"
      ]
     },
     "execution_count": 9,
     "metadata": {},
     "output_type": "execute_result"
    }
   ],
   "source": [
    "sym_to_ciks.sym_to_ciks['AIG']"
   ]
  },
  {
   "cell_type": "code",
   "execution_count": 6,
   "metadata": {
    "collapsed": false
   },
   "outputs": [],
   "source": [
    "aho = eu.get_acc_table({'cik' : eu.short_to_long_cik(sym_to_ciks.sym_to_ciks['AIG']),\n",
    "                        'qk'  : 'q'})\n",
    "\n",
    "\n",
    "#0001326801\n",
    "#0000051143"
   ]
  },
  {
   "cell_type": "code",
   "execution_count": null,
   "metadata": {
    "collapsed": false
   },
   "outputs": [],
   "source": [
    "aa = lambda x : ftp.get_sec_XRBL(sym_to_ciks.sym_to_ciks['AIG'],x)"
   ]
  },
  {
   "cell_type": "code",
   "execution_count": null,
   "metadata": {
    "collapsed": false
   },
   "outputs": [],
   "source": [
    "aho['xml'] = aho.Acc.apply(aa)"
   ]
  },
  {
   "cell_type": "code",
   "execution_count": null,
   "metadata": {
    "collapsed": false
   },
   "outputs": [],
   "source": [
    "import pysec.util.xbrl as xbrl"
   ]
  },
  {
   "cell_type": "code",
   "execution_count": null,
   "metadata": {
    "collapsed": false,
    "scrolled": true
   },
   "outputs": [],
   "source": [
    "# def a(row):\n",
    "#     acc = row.Acc\n",
    "#     ftp.get_sec_XRBL(sym_to_ciks.sym_to_ciks['AIG'],acc)"
   ]
  },
  {
   "cell_type": "code",
   "execution_count": null,
   "metadata": {
    "collapsed": false
   },
   "outputs": [],
   "source": [
    "bb = lambda x : xbrl.XBRL(x)"
   ]
  },
  {
   "cell_type": "code",
   "execution_count": null,
   "metadata": {
    "collapsed": false
   },
   "outputs": [],
   "source": [
    "aho['xbrl'] = aho.xml.apply(bb)"
   ]
  },
  {
   "cell_type": "code",
   "execution_count": null,
   "metadata": {
    "collapsed": false
   },
   "outputs": [],
   "source": [
    "ftp.get_sec_XRBL(d['short_cik'],d['acc'])"
   ]
  },
  {
   "cell_type": "code",
   "execution_count": null,
   "metadata": {
    "collapsed": false
   },
   "outputs": [],
   "source": [
    "plt.plot_date(aho.time.values,y(aho.xbrl.values)/1000000000.0,'-')\n",
    "plt.xlabel('Time',fontsize=20)\n",
    "plt.ylabel('Cash in B$',fontsize=20)\n",
    "plt.xticks(fontsize=20)\n",
    "plt.yticks(fontsize=20)"
   ]
  },
  {
   "cell_type": "code",
   "execution_count": null,
   "metadata": {
    "collapsed": true
   },
   "outputs": [],
   "source": [
    "y = lambda x : float(x.fields['Cash'])"
   ]
  },
  {
   "cell_type": "code",
   "execution_count": null,
   "metadata": {
    "collapsed": false
   },
   "outputs": [],
   "source": [
    "import numpy\n",
    "import matplotlib.pyplot as plt\n",
    "%matplotlib inline"
   ]
  },
  {
   "cell_type": "code",
   "execution_count": null,
   "metadata": {
    "collapsed": true
   },
   "outputs": [],
   "source": [
    "y = numpy.vectorize(y)"
   ]
  },
  {
   "cell_type": "code",
   "execution_count": null,
   "metadata": {
    "collapsed": false
   },
   "outputs": [],
   "source": [
    "aho"
   ]
  },
  {
   "cell_type": "code",
   "execution_count": null,
   "metadata": {
    "collapsed": true
   },
   "outputs": [],
   "source": [
    "import matplotlib"
   ]
  },
  {
   "cell_type": "code",
   "execution_count": null,
   "metadata": {
    "collapsed": false
   },
   "outputs": [],
   "source": [
    "aho['Filing Date'].values"
   ]
  },
  {
   "cell_type": "code",
   "execution_count": null,
   "metadata": {
    "collapsed": true
   },
   "outputs": [],
   "source": [
    "import datetime"
   ]
  },
  {
   "cell_type": "code",
   "execution_count": null,
   "metadata": {
    "collapsed": false
   },
   "outputs": [],
   "source": [
    "datetime.datetime(aho['Filing Date'].values[0])"
   ]
  },
  {
   "cell_type": "code",
   "execution_count": null,
   "metadata": {
    "collapsed": true
   },
   "outputs": [],
   "source": [
    "import time"
   ]
  },
  {
   "cell_type": "code",
   "execution_count": null,
   "metadata": {
    "collapsed": false
   },
   "outputs": [],
   "source": [
    "w = time.strptime(aho['Filing Date'].values[0],\"%Y-%m-%d\")"
   ]
  },
  {
   "cell_type": "code",
   "execution_count": null,
   "metadata": {
    "collapsed": false
   },
   "outputs": [],
   "source": [
    "dt = datetime.datetime.fromtimestamp(time.mktime(time.strptime(aho['Filing Date'].values,\"%Y-%m-%d\")))"
   ]
  },
  {
   "cell_type": "code",
   "execution_count": null,
   "metadata": {
    "collapsed": false
   },
   "outputs": [],
   "source": [
    "dt"
   ]
  },
  {
   "cell_type": "code",
   "execution_count": null,
   "metadata": {
    "collapsed": false
   },
   "outputs": [],
   "source": [
    "gg = lambda x : datetime.datetime.fromtimestamp(time.mktime(time.strptime(x,\"%Y-%m-%d\")))"
   ]
  },
  {
   "cell_type": "code",
   "execution_count": null,
   "metadata": {
    "collapsed": false
   },
   "outputs": [],
   "source": [
    "aho['time'] = aho['Filing Date'].apply(gg)"
   ]
  },
  {
   "cell_type": "code",
   "execution_count": null,
   "metadata": {
    "collapsed": false
   },
   "outputs": [],
   "source": [
    "aho.xbrl.values[0].fields"
   ]
  },
  {
   "cell_type": "code",
   "execution_count": 8,
   "metadata": {
    "collapsed": false
   },
   "outputs": [
    {
     "data": {
      "text/plain": [
       "<bound method DataFrame.to_dict of    Filings                   Acc Filing Date\n",
       "0   10-Q/A  0000005272-15-000014  2015-08-04\n",
       "2     10-Q  0000005272-15-000006  2015-05-04\n",
       "3     10-Q  0000005272-14-000013  2014-11-03\n",
       "4     10-Q  0000005272-14-000010  2014-08-04\n",
       "5     10-Q  0000005272-14-000007  2014-05-05\n",
       "6     10-Q  0001047469-13-010141  2013-10-31\n",
       "7     10-Q  0001047469-13-008075  2013-08-05\n",
       "8     10-Q  0001047469-13-005458  2013-05-02\n",
       "9     10-Q  0001047469-12-009952  2012-11-01\n",
       "10    10-Q  0001047469-12-007690  2012-08-02\n",
       "11    10-Q  0001047469-12-005310  2012-05-03\n",
       "12    10-Q  0001047469-11-009000  2011-11-03\n",
       "13    10-Q  0001047469-11-006953  2011-08-04\n",
       "14    10-Q  0001047469-11-004647  2011-05-05\n",
       "16    10-Q  0001047469-10-009269  2010-11-05\n",
       "17    10-Q  0001047469-10-007097  2010-08-06\n",
       "18    10-Q  0001047469-10-004918  2010-05-07\n",
       "19    10-Q  0001047469-09-009659  2009-11-06\n",
       "20  10-Q/A  0001104659-09-053270  2009-09-03>"
      ]
     },
     "execution_count": 8,
     "metadata": {},
     "output_type": "execute_result"
    }
   ],
   "source": [
    "aho.to_dict"
   ]
  },
  {
   "cell_type": "code",
   "execution_count": null,
   "metadata": {
    "collapsed": true
   },
   "outputs": [],
   "source": []
  }
 ],
 "metadata": {
  "kernelspec": {
   "display_name": "Python 2",
   "language": "python",
   "name": "python2"
  },
  "language_info": {
   "codemirror_mode": {
    "name": "ipython",
    "version": 2
   },
   "file_extension": ".py",
   "mimetype": "text/x-python",
   "name": "python",
   "nbconvert_exporter": "python",
   "pygments_lexer": "ipython2",
   "version": "2.7.5"
  }
 },
 "nbformat": 4,
 "nbformat_minor": 0
}
